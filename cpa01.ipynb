{
 "cells": [
  {
   "cell_type": "markdown",
   "metadata": {},
   "source": [
    "# Header\n",
    "* The dataset I used is a giant CSV file containing all the used car listings from Craiglist. It was made as a student project by someone who made a web scrapper to find every used car listing on the site.\n",
    "* https://www.kaggle.com/austinreese/craigslist-carstrucks-data and the file can be downloaded by simply logging in using your email and hitting the download button. The file is 1GB.\n",
    "* Questions:\n",
    "    1) Did a worse economy (such as around 2008) affect the used car sales? \n",
    "    2) Have car prices increased over time globally, or does it rise and fall?"
   ]
  },
  {
   "cell_type": "markdown",
   "metadata": {},
   "source": [
    "Loading CSV into dataframe (The dataset is huge, it noramlly takes 20 seconds for this section for me)"
   ]
  },
  {
   "cell_type": "code",
   "execution_count": null,
   "metadata": {},
   "outputs": [],
   "source": [
    "import numpy as np\n",
    "import pandas as pd\n",
    "from matplotlib import pyplot as plt\n",
    "df= pd.read_csv(\"vehicles.csv\")\n",
    "dropindexes=df[df['price']<500].index #remove any cars cheaper than $500\n",
    "df.drop(dropindexes,inplace=True)\n",
    "dropindexes=df[df['year']<1996].index #remove any cars listed as being before 1996, when craiglist was made public\n",
    "df.drop(dropindexes,inplace=True)\n",
    "dropindexes=df[df['price']>1000000000].index #remove any cars listed over 1 billion\n",
    "df.drop(dropindexes,inplace=True)\n",
    "df"
   ]
  },
  {
   "cell_type": "markdown",
   "metadata": {},
   "source": [
    "Using Describe over all columns"
   ]
  },
  {
   "cell_type": "code",
   "execution_count": null,
   "metadata": {},
   "outputs": [],
   "source": [
    "df.describe()"
   ]
  },
  {
   "cell_type": "markdown",
   "metadata": {},
   "source": [
    "using describe for the sections I will be using"
   ]
  },
  {
   "cell_type": "code",
   "execution_count": null,
   "metadata": {},
   "outputs": [],
   "source": [
    "df[['price','year',]].describe()"
   ]
  },
  {
   "cell_type": "code",
   "execution_count": null,
   "metadata": {},
   "outputs": [],
   "source": [
    "cars= df.groupby(['year'])\n",
    "cars = cars[\"price\"].agg([np.min, np.max, sum, np.average])\n",
    "cars=cars.sort_values(ascending=False, by='year')\n",
    "cars"
   ]
  },
  {
   "cell_type": "code",
   "execution_count": null,
   "metadata": {},
   "outputs": [],
   "source": [
    "plt1=df.groupby('year')[\"price\"].agg(np.average)\n",
    "plt1.plot()\n",
    "plt.axis([1996,2022,0,130000])\n",
    "plt.title('Average Cost of Used Car by Year')\n",
    "plt.grid()"
   ]
  },
  {
   "cell_type": "code",
   "execution_count": null,
   "metadata": {},
   "outputs": [],
   "source": [
    "plt2=df.groupby('year')[\"id\"].agg(len)\n",
    "plt2.plot()\n",
    "plt.axis([1996,2022,0,35000])\n",
    "plt.title('Number of Used Cars Sold by Year')\n",
    "plt.grid()"
   ]
  },
  {
   "cell_type": "code",
   "execution_count": null,
   "metadata": {},
   "outputs": [],
   "source": [
    "av_cost=df.groupby([\"year\",\"region\"])\n",
    "av_cost=av_cost[\"price\"].agg([np.min, np.max, sum, np.average])\n",
    "cars_pt =  pd.pivot_table(av_cost, values=\"average\", index=[\"year\"], columns=[\"region\"])\n",
    "cars_pt=cars_pt.sort_values(ascending=True,by=\"year\")\n",
    "cars_pt"
   ]
  },
  {
   "cell_type": "code",
   "execution_count": null,
   "metadata": {},
   "outputs": [],
   "source": [
    "cars_pt['hudson valley'] = cars_pt['hudson valley'].fillna(0)\n",
    "cars_pt['auburn'] = cars_pt['auburn'].fillna(0)\n",
    "cars_pt['birmingham'] = cars_pt['birmingham'].fillna(0)\n",
    "cars_pt['new york city'] = cars_pt['new york city'].fillna(0)\n",
    "cars_pt['boston'] = cars_pt['boston'].fillna(0)\n",
    "cars_pt['chicago'] = cars_pt['chicago'].fillna(0)\n",
    "cars_pt['st louis'] = cars_pt['st louis'].fillna(0)\n",
    "cars_pt['new orleans'] = cars_pt['new orleans'].fillna(0)\n",
    "\n",
    "cars_pt[['hudson valley', 'auburn', 'birmingham', 'new york city', 'boston','chicago', 'st louis', 'new orleans']].plot(figsize=(15,10))\n",
    "plt.legend()\n",
    "plt.grid()\n",
    "plt.title('Average Price of Used Car by Region')"
   ]
  },
  {
   "cell_type": "markdown",
   "metadata": {},
   "source": [
    "# Discussion Cell\n",
    "My questions were: \n",
    "1) Did a worse economy (such as around 2008) affect the used car sales? \n",
    "2) Have car prices increased over time globally, or does it rise and fall?\n",
    "\n",
    "My data showed: \n",
    "1) It seems that right before the 2008 recession there was a surge in car sales, then it dropped steeply and has mostly been rising ever since, until 2018 or 2019 when it started dropping, but this could be due to a lack of sales being made on Craiglist.\n",
    "\n",
    "2) The average price has definetly gone up and down a lot, mostly rising right at the beginnning of Craigslist which might be due to novelty of the selling method, before settling into a lower mostly stable average price, before shooting back up in recent years.\n",
    "\n",
    "It is very worth noting that this data is skewed in many ways. It only considers used car sales made on Craigslist, and it only includes listing price since the site does not track the final prices.  "
   ]
  }
 ],
 "metadata": {
  "interpreter": {
   "hash": "0adcc2737ebf6a4a119f135174df96668767fca1ef1112612db5ecadf2b6d608"
  },
  "kernelspec": {
   "display_name": "Python 3.8.5 64-bit",
   "language": "python",
   "name": "python3"
  },
  "language_info": {
   "codemirror_mode": {
    "name": "ipython",
    "version": 3
   },
   "file_extension": ".py",
   "mimetype": "text/x-python",
   "name": "python",
   "nbconvert_exporter": "python",
   "pygments_lexer": "ipython3",
   "version": "3.8.5"
  },
  "orig_nbformat": 4
 },
 "nbformat": 4,
 "nbformat_minor": 2
}
